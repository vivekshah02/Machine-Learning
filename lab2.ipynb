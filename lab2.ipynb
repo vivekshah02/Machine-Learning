{
 "cells": [
  {
   "cell_type": "code",
   "execution_count": 1,
   "id": "5ed9e1b8",
   "metadata": {},
   "outputs": [
    {
     "data": {
      "text/html": [
       "<div>\n",
       "<style scoped>\n",
       "    .dataframe tbody tr th:only-of-type {\n",
       "        vertical-align: middle;\n",
       "    }\n",
       "\n",
       "    .dataframe tbody tr th {\n",
       "        vertical-align: top;\n",
       "    }\n",
       "\n",
       "    .dataframe thead th {\n",
       "        text-align: right;\n",
       "    }\n",
       "</style>\n",
       "<table border=\"1\" class=\"dataframe\">\n",
       "  <thead>\n",
       "    <tr style=\"text-align: right;\">\n",
       "      <th></th>\n",
       "      <th>Customer</th>\n",
       "      <th>Candies (#)</th>\n",
       "      <th>Mangoes (Kg)</th>\n",
       "      <th>Milk Packets (#)</th>\n",
       "      <th>Payment (Rs)</th>\n",
       "    </tr>\n",
       "  </thead>\n",
       "  <tbody>\n",
       "    <tr>\n",
       "      <th>0</th>\n",
       "      <td>C_1</td>\n",
       "      <td>20</td>\n",
       "      <td>6</td>\n",
       "      <td>2</td>\n",
       "      <td>386</td>\n",
       "    </tr>\n",
       "    <tr>\n",
       "      <th>1</th>\n",
       "      <td>C_2</td>\n",
       "      <td>16</td>\n",
       "      <td>3</td>\n",
       "      <td>6</td>\n",
       "      <td>289</td>\n",
       "    </tr>\n",
       "    <tr>\n",
       "      <th>2</th>\n",
       "      <td>C_3</td>\n",
       "      <td>27</td>\n",
       "      <td>6</td>\n",
       "      <td>2</td>\n",
       "      <td>393</td>\n",
       "    </tr>\n",
       "    <tr>\n",
       "      <th>3</th>\n",
       "      <td>C_4</td>\n",
       "      <td>19</td>\n",
       "      <td>1</td>\n",
       "      <td>2</td>\n",
       "      <td>110</td>\n",
       "    </tr>\n",
       "    <tr>\n",
       "      <th>4</th>\n",
       "      <td>C_5</td>\n",
       "      <td>24</td>\n",
       "      <td>4</td>\n",
       "      <td>2</td>\n",
       "      <td>280</td>\n",
       "    </tr>\n",
       "    <tr>\n",
       "      <th>5</th>\n",
       "      <td>C_6</td>\n",
       "      <td>22</td>\n",
       "      <td>1</td>\n",
       "      <td>5</td>\n",
       "      <td>167</td>\n",
       "    </tr>\n",
       "    <tr>\n",
       "      <th>6</th>\n",
       "      <td>C_7</td>\n",
       "      <td>15</td>\n",
       "      <td>4</td>\n",
       "      <td>2</td>\n",
       "      <td>271</td>\n",
       "    </tr>\n",
       "    <tr>\n",
       "      <th>7</th>\n",
       "      <td>C_8</td>\n",
       "      <td>18</td>\n",
       "      <td>4</td>\n",
       "      <td>2</td>\n",
       "      <td>274</td>\n",
       "    </tr>\n",
       "    <tr>\n",
       "      <th>8</th>\n",
       "      <td>C_9</td>\n",
       "      <td>21</td>\n",
       "      <td>1</td>\n",
       "      <td>4</td>\n",
       "      <td>148</td>\n",
       "    </tr>\n",
       "    <tr>\n",
       "      <th>9</th>\n",
       "      <td>C_10</td>\n",
       "      <td>16</td>\n",
       "      <td>2</td>\n",
       "      <td>4</td>\n",
       "      <td>198</td>\n",
       "    </tr>\n",
       "  </tbody>\n",
       "</table>\n",
       "</div>"
      ],
      "text/plain": [
       "  Customer  Candies (#)  Mangoes (Kg)  Milk Packets (#)  Payment (Rs)\n",
       "0      C_1           20             6                 2           386\n",
       "1      C_2           16             3                 6           289\n",
       "2      C_3           27             6                 2           393\n",
       "3      C_4           19             1                 2           110\n",
       "4      C_5           24             4                 2           280\n",
       "5      C_6           22             1                 5           167\n",
       "6      C_7           15             4                 2           271\n",
       "7      C_8           18             4                 2           274\n",
       "8      C_9           21             1                 4           148\n",
       "9     C_10           16             2                 4           198"
      ]
     },
     "execution_count": 1,
     "metadata": {},
     "output_type": "execute_result"
    }
   ],
   "source": [
    "import pandas as pd\n",
    "import numpy as np\n",
    "# import numpy.linalg as la\n",
    "\n",
    "df = pd.read_excel(r'C:\\Users\\vivek\\Downloads\\Lab Session Data.xlsx')\n",
    "df = df.dropna(axis = 1)\n",
    "df"
   ]
  },
  {
   "cell_type": "code",
   "execution_count": 2,
   "id": "5792e5da",
   "metadata": {
    "scrolled": true
   },
   "outputs": [
    {
     "name": "stdout",
     "output_type": "stream",
     "text": [
      "Matrix A :\n",
      "[[20  6  2]\n",
      " [16  3  6]\n",
      " [27  6  2]\n",
      " [19  1  2]\n",
      " [24  4  2]\n",
      " [22  1  5]\n",
      " [15  4  2]\n",
      " [18  4  2]\n",
      " [21  1  4]\n",
      " [16  2  4]]\n",
      "Matrix B :\n",
      "[386 289 393 110 280 167 271 274 148 198]\n",
      "Number of vector is :  10\n",
      "Dimensionality of vector space is 3\n",
      "Rank of Matrix A:  3\n"
     ]
    }
   ],
   "source": [
    "# No.1\n",
    "A = df.iloc[:, 1:-1].values\n",
    "B =df.iloc[:, -1].values\n",
    "\n",
    "A = np.array(A)\n",
    "B = np.array(B)\n",
    "\n",
    "print(\"Matrix A :\")\n",
    "print(A)\n",
    "print(\"Matrix B :\")\n",
    "print(B)\n",
    "\n",
    "# number of vectors in vector space\n",
    "noOfVector = A.shape[0]\n",
    "print('Number of vector is : ', noOfVector)\n",
    "\n",
    "\n",
    "# Dimensionality of the given vector space\n",
    "Dimensionality = A.shape[1]\n",
    "print(\"Dimensionality of vector space is\" , Dimensionality)\n",
    "\n",
    "# Rank of matrix A\n",
    "rankOfA = np.linalg.matrix_rank(A)\n",
    "print('Rank of Matrix A: ', rankOfA)"
   ]
  },
  {
   "cell_type": "code",
   "execution_count": 3,
   "id": "03d6c9d7",
   "metadata": {},
   "outputs": [
    {
     "name": "stdout",
     "output_type": "stream",
     "text": [
      "[ 1. 55. 18.]\n"
     ]
    }
   ],
   "source": [
    "# Using Pseudo-Inverse find the cost of each product available for sale.\n",
    "# (Suggestion: If you use Python, you can use numpy.linalg.pinv() function to get a\n",
    "# pseudo-inverse.)\n",
    "\n",
    "pseudoInverse = np.linalg.pinv(A)\n",
    "priceOfEachProduct = np.dot(pseudoInverse, B)\n",
    "print(priceOfEachProduct)"
   ]
  },
  {
   "cell_type": "code",
   "execution_count": 4,
   "id": "e37dff73",
   "metadata": {},
   "outputs": [
    {
     "name": "stdout",
     "output_type": "stream",
     "text": [
      "[ 1. 55. 18.]\n"
     ]
    }
   ],
   "source": [
    "# No.2\n",
    "# Use the Pseudo-inverse to calculate the model vector X for predicting the cost of the products\n",
    "# available with the vendor.\n",
    "\n",
    "X = np.dot(pseudoInverse, B)\n",
    "print(X)"
   ]
  },
  {
   "cell_type": "code",
   "execution_count": 5,
   "id": "6b64b075",
   "metadata": {},
   "outputs": [
    {
     "name": "stdout",
     "output_type": "stream",
     "text": [
      "  Customer  Candies (#)  Mangoes (Kg)  Milk Packets (#)  Payment (Rs) Category\n",
      "0      C_1           20             6                 2           386     Rich\n",
      "1      C_2           16             3                 6           289     Rich\n",
      "2      C_3           27             6                 2           393     Rich\n",
      "3      C_4           19             1                 2           110     Poor\n",
      "4      C_5           24             4                 2           280     Rich\n",
      "5      C_6           22             1                 5           167     Poor\n",
      "6      C_7           15             4                 2           271     Rich\n",
      "7      C_8           18             4                 2           274     Rich\n",
      "8      C_9           21             1                 4           148     Poor\n",
      "9     C_10           16             2                 4           198     Poor\n"
     ]
    }
   ],
   "source": [
    "# No. 3\n",
    "# Mark all customers (in “Purchase Data” table) with payments above Rs. 200 as RICH and others\n",
    "# as POOR. Develop a classifier model to categorize customers into RICH or POOR class based on\n",
    "# purchase behavior.\n",
    "\n",
    "df['Category'] = df['Payment (Rs)'] > 200\n",
    "df['Category'] = df['Category'].replace({True:'Rich', False:'Poor'})\n",
    "\n",
    "print(df)\n"
   ]
  },
  {
   "cell_type": "code",
   "execution_count": 6,
   "id": "fcf0e79e",
   "metadata": {},
   "outputs": [
    {
     "name": "stdout",
     "output_type": "stream",
     "text": [
      "             Date Month  Day    Price     Open     High      Low   Volume  \\\n",
      "0    Jun 29, 2021   Jun  Tue  2081.85  2092.00  2126.90  2065.05    1.67M   \n",
      "1    Jun 28, 2021   Jun  Mon  2077.75  2084.00  2112.45  2068.40  707.73K   \n",
      "2    Jun 25, 2021   Jun  Fri  2068.85  2084.35  2088.50  2053.10  475.82K   \n",
      "3    Jun 24, 2021   Jun  Thu  2072.95  2098.00  2098.00  2066.00  541.51K   \n",
      "4    Jun 23, 2021   Jun  Wed  2078.25  2102.00  2111.40  2072.00  809.62K   \n",
      "..            ...   ...  ...      ...      ...      ...      ...      ...   \n",
      "244  Jul 07, 2020   Jul  Tue  1397.40  1410.00  1411.00  1390.05  480.21K   \n",
      "245  Jul 06, 2020   Jul  Mon  1400.75  1405.50  1415.50  1394.00  614.93K   \n",
      "246  Jul 03, 2020   Jul  Fri  1405.10  1415.00  1425.00  1398.00  599.49K   \n",
      "247  Jul 02, 2020   Jul  Thu  1412.35  1440.00  1467.80  1395.30    2.16M   \n",
      "248  Jul 01, 2020   Jul  Wed  1363.05  1363.65  1377.00  1356.00  383.00K   \n",
      "\n",
      "       Chg%  \n",
      "0    0.0020  \n",
      "1    0.0043  \n",
      "2   -0.0020  \n",
      "3   -0.0026  \n",
      "4   -0.0023  \n",
      "..      ...  \n",
      "244 -0.0024  \n",
      "245 -0.0031  \n",
      "246 -0.0051  \n",
      "247  0.0362  \n",
      "248  0.0032  \n",
      "\n",
      "[249 rows x 9 columns]\n"
     ]
    }
   ],
   "source": [
    "# No. 4\n",
    "# Please refer to the data present in “IRCTC Stock Price” data sheet of the above excel file.\n",
    "\n",
    "irctc_data = pd.read_excel(r'C:\\Users\\vivek\\Downloads\\Lab Session Data.xlsx', sheet_name = 'IRCTC Stock Price')\n",
    "irctc_data = irctc_data.dropna(axis=1)\n",
    "print(irctc_data)"
   ]
  },
  {
   "cell_type": "code",
   "execution_count": 7,
   "id": "fa3a1b08",
   "metadata": {},
   "outputs": [
    {
     "name": "stdout",
     "output_type": "stream",
     "text": [
      "Mean of Price: 1560.6634538152612 Variance of Price: 58732.36535253918\n"
     ]
    }
   ],
   "source": [
    "# Calculate mean and variance\n",
    "price_mean = irctc_data['Price'].mean()\n",
    "price_variance = irctc_data['Price'].var()\n",
    "print('Mean of Price:', price_mean , 'Variance of Price:', price_variance)"
   ]
  },
  {
   "cell_type": "code",
   "execution_count": 8,
   "id": "68907b2b-6f02-46ca-a588-a341ac2d7455",
   "metadata": {},
   "outputs": [
    {
     "name": "stdout",
     "output_type": "stream",
     "text": [
      "Mean for Wednesdays: 1550.7060000000001\n"
     ]
    }
   ],
   "source": [
    "# Ensuring the 'Date' column is in datetime format\n",
    "irctc_data['Date'] = pd.to_datetime(irctc_data['Date'])\n",
    "\n",
    "# Calculating sample mean for Wednesdays\n",
    "# 0-monday, 6-sunday\n",
    "wednesday_data = irctc_data[irctc_data['Date'].dt.weekday == 2]\n",
    "wednesday_mean = wednesday_data['Price'].mean()\n",
    "print('Mean for Wednesdays:', wednesday_mean)"
   ]
  },
  {
   "cell_type": "code",
   "execution_count": 9,
   "id": "1ddca7bc-9ab8-4ad2-83bf-c0110db5730d",
   "metadata": {},
   "outputs": [
    {
     "name": "stdout",
     "output_type": "stream",
     "text": [
      "Sample mean for April: 1698.9526315789474\n"
     ]
    }
   ],
   "source": [
    "# Calculate sample mean for April\n",
    "april_data = irctc_data[irctc_data['Date'].dt.month == 4]\n",
    "april_mean = april_data['Price'].mean()\n",
    "print(f\"Sample mean for April: {april_mean}\")"
   ]
  },
  {
   "cell_type": "code",
   "execution_count": 10,
   "id": "c976e42b-3ad6-4e49-8304-7ce436f8865b",
   "metadata": {},
   "outputs": [
    {
     "name": "stdout",
     "output_type": "stream",
     "text": [
      "Probability of making a loss: 0.4979919678714859\n",
      "Probability of making a profit on Wednesday: 0.42\n"
     ]
    }
   ],
   "source": [
    "# Probability of making a loss over the stock\n",
    "#  Boolean Series where True indicates a loss (negative change) and False indicates a profit\n",
    "loss_prob = (irctc_data['Chg%'] < 0).mean()\n",
    "print(f\"Probability of making a loss: {loss_prob}\")\n",
    "\n",
    "# Probability of making a profit on Wednesday\n",
    "profit_wed_prob = (wednesday_data['Chg%'] > 0).mean()\n",
    "print(f\"Probability of making a profit on Wednesday: {profit_wed_prob}\")"
   ]
  },
  {
   "cell_type": "code",
   "execution_count": 11,
   "id": "c64b0535-80b2-4236-a5ad-1c2c95009e19",
   "metadata": {},
   "outputs": [
    {
     "name": "stdout",
     "output_type": "stream",
     "text": [
      "Conditional probability of making profit given the day is Wednesday: 0.8433870967741935\n"
     ]
    }
   ],
   "source": [
    "# Conditional probability of making profit given that today is Wednesday\n",
    "conditional_probab = profit_wed_prob / (irctc_data['Chg%'] > 0).mean()\n",
    "print(f\"Conditional probability of making profit given the day is Wednesday: {conditional_probab}\")"
   ]
  },
  {
   "cell_type": "code",
   "execution_count": 12,
   "id": "97a5e2bf-2c48-4724-b73a-321e6e299497",
   "metadata": {},
   "outputs": [],
   "source": [
    "\n",
    "# import seaborn as sns\n",
    "import matplotlib.pyplot as plt"
   ]
  },
  {
   "cell_type": "code",
   "execution_count": 13,
   "id": "26ab9f4b-e812-49c1-ba9a-914f22dcc6e4",
   "metadata": {},
   "outputs": [
    {
     "data": {
      "image/png": "[encoded data removed]",
      "text/plain": [
       "<Figure size 640x480 with 1 Axes>"
      ]
     },
     "metadata": {},
     "output_type": "display_data"
    }
   ],
   "source": [
    "# Scatter plot of Chg% data against the day of the week\n",
    "# irctc_data['Day of Week'] = irctc_data['Date'].dt.day_name()\n",
    "plt.scatter(x='Day', y='Chg%', data=irctc_data)\n",
    "plt.xlabel('Day of the Week')\n",
    "plt.ylabel('Chg%')\n",
    "plt.title('Chg% vs Day of the Week')\n",
    "plt.show()"
   ]
  },
  {
   "cell_type": "code",
   "execution_count": 14,
   "id": "96d4b168-2d8a-4c00-abf9-310a3d8263cf",
   "metadata": {},
   "outputs": [
    {
     "data": {
      "text/html": [
       "<div>\n",
       "<style scoped>\n",
       "    .dataframe tbody tr th:only-of-type {\n",
       "        vertical-align: middle;\n",
       "    }\n",
       "\n",
       "    .dataframe tbody tr th {\n",
       "        vertical-align: top;\n",
       "    }\n",
       "\n",
       "    .dataframe thead th {\n",
       "        text-align: right;\n",
       "    }\n",
       "</style>\n",
       "<table border=\"1\" class=\"dataframe\">\n",
       "  <thead>\n",
       "    <tr style=\"text-align: right;\">\n",
       "      <th></th>\n",
       "      <th>Record ID</th>\n",
       "      <th>age</th>\n",
       "      <th>sex</th>\n",
       "      <th>on thyroxine</th>\n",
       "      <th>query on thyroxine</th>\n",
       "      <th>on antithyroid medication</th>\n",
       "      <th>sick</th>\n",
       "      <th>pregnant</th>\n",
       "      <th>thyroid surgery</th>\n",
       "      <th>I131 treatment</th>\n",
       "      <th>...</th>\n",
       "      <th>TT4 measured</th>\n",
       "      <th>TT4</th>\n",
       "      <th>T4U measured</th>\n",
       "      <th>T4U</th>\n",
       "      <th>FTI measured</th>\n",
       "      <th>FTI</th>\n",
       "      <th>TBG measured</th>\n",
       "      <th>TBG</th>\n",
       "      <th>referral source</th>\n",
       "      <th>Condition</th>\n",
       "    </tr>\n",
       "  </thead>\n",
       "  <tbody>\n",
       "    <tr>\n",
       "      <th>0</th>\n",
       "      <td>840801013</td>\n",
       "      <td>29</td>\n",
       "      <td>F</td>\n",
       "      <td>f</td>\n",
       "      <td>f</td>\n",
       "      <td>f</td>\n",
       "      <td>f</td>\n",
       "      <td>f</td>\n",
       "      <td>f</td>\n",
       "      <td>f</td>\n",
       "      <td>...</td>\n",
       "      <td>f</td>\n",
       "      <td>?</td>\n",
       "      <td>f</td>\n",
       "      <td>?</td>\n",
       "      <td>f</td>\n",
       "      <td>?</td>\n",
       "      <td>f</td>\n",
       "      <td>?</td>\n",
       "      <td>other</td>\n",
       "      <td>NO CONDITION</td>\n",
       "    </tr>\n",
       "    <tr>\n",
       "      <th>1</th>\n",
       "      <td>840801014</td>\n",
       "      <td>29</td>\n",
       "      <td>F</td>\n",
       "      <td>f</td>\n",
       "      <td>f</td>\n",
       "      <td>f</td>\n",
       "      <td>f</td>\n",
       "      <td>f</td>\n",
       "      <td>f</td>\n",
       "      <td>f</td>\n",
       "      <td>...</td>\n",
       "      <td>t</td>\n",
       "      <td>128</td>\n",
       "      <td>f</td>\n",
       "      <td>?</td>\n",
       "      <td>f</td>\n",
       "      <td>?</td>\n",
       "      <td>f</td>\n",
       "      <td>?</td>\n",
       "      <td>other</td>\n",
       "      <td>NO CONDITION</td>\n",
       "    </tr>\n",
       "    <tr>\n",
       "      <th>2</th>\n",
       "      <td>840801042</td>\n",
       "      <td>41</td>\n",
       "      <td>F</td>\n",
       "      <td>f</td>\n",
       "      <td>f</td>\n",
       "      <td>f</td>\n",
       "      <td>f</td>\n",
       "      <td>f</td>\n",
       "      <td>f</td>\n",
       "      <td>f</td>\n",
       "      <td>...</td>\n",
       "      <td>f</td>\n",
       "      <td>?</td>\n",
       "      <td>f</td>\n",
       "      <td>?</td>\n",
       "      <td>f</td>\n",
       "      <td>?</td>\n",
       "      <td>t</td>\n",
       "      <td>11</td>\n",
       "      <td>other</td>\n",
       "      <td>NO CONDITION</td>\n",
       "    </tr>\n",
       "    <tr>\n",
       "      <th>3</th>\n",
       "      <td>840803046</td>\n",
       "      <td>36</td>\n",
       "      <td>F</td>\n",
       "      <td>f</td>\n",
       "      <td>f</td>\n",
       "      <td>f</td>\n",
       "      <td>f</td>\n",
       "      <td>f</td>\n",
       "      <td>f</td>\n",
       "      <td>f</td>\n",
       "      <td>...</td>\n",
       "      <td>f</td>\n",
       "      <td>?</td>\n",
       "      <td>f</td>\n",
       "      <td>?</td>\n",
       "      <td>f</td>\n",
       "      <td>?</td>\n",
       "      <td>t</td>\n",
       "      <td>26</td>\n",
       "      <td>other</td>\n",
       "      <td>NO CONDITION</td>\n",
       "    </tr>\n",
       "    <tr>\n",
       "      <th>4</th>\n",
       "      <td>840803047</td>\n",
       "      <td>32</td>\n",
       "      <td>F</td>\n",
       "      <td>f</td>\n",
       "      <td>f</td>\n",
       "      <td>f</td>\n",
       "      <td>f</td>\n",
       "      <td>f</td>\n",
       "      <td>f</td>\n",
       "      <td>f</td>\n",
       "      <td>...</td>\n",
       "      <td>f</td>\n",
       "      <td>?</td>\n",
       "      <td>f</td>\n",
       "      <td>?</td>\n",
       "      <td>f</td>\n",
       "      <td>?</td>\n",
       "      <td>t</td>\n",
       "      <td>36</td>\n",
       "      <td>other</td>\n",
       "      <td>S</td>\n",
       "    </tr>\n",
       "    <tr>\n",
       "      <th>...</th>\n",
       "      <td>...</td>\n",
       "      <td>...</td>\n",
       "      <td>...</td>\n",
       "      <td>...</td>\n",
       "      <td>...</td>\n",
       "      <td>...</td>\n",
       "      <td>...</td>\n",
       "      <td>...</td>\n",
       "      <td>...</td>\n",
       "      <td>...</td>\n",
       "      <td>...</td>\n",
       "      <td>...</td>\n",
       "      <td>...</td>\n",
       "      <td>...</td>\n",
       "      <td>...</td>\n",
       "      <td>...</td>\n",
       "      <td>...</td>\n",
       "      <td>...</td>\n",
       "      <td>...</td>\n",
       "      <td>...</td>\n",
       "      <td>...</td>\n",
       "    </tr>\n",
       "    <tr>\n",
       "      <th>9167</th>\n",
       "      <td>870119022</td>\n",
       "      <td>56</td>\n",
       "      <td>M</td>\n",
       "      <td>f</td>\n",
       "      <td>f</td>\n",
       "      <td>f</td>\n",
       "      <td>f</td>\n",
       "      <td>f</td>\n",
       "      <td>f</td>\n",
       "      <td>f</td>\n",
       "      <td>...</td>\n",
       "      <td>t</td>\n",
       "      <td>64</td>\n",
       "      <td>t</td>\n",
       "      <td>0.83</td>\n",
       "      <td>t</td>\n",
       "      <td>77</td>\n",
       "      <td>f</td>\n",
       "      <td>?</td>\n",
       "      <td>SVI</td>\n",
       "      <td>NO CONDITION</td>\n",
       "    </tr>\n",
       "    <tr>\n",
       "      <th>9168</th>\n",
       "      <td>870119023</td>\n",
       "      <td>22</td>\n",
       "      <td>M</td>\n",
       "      <td>f</td>\n",
       "      <td>f</td>\n",
       "      <td>f</td>\n",
       "      <td>f</td>\n",
       "      <td>f</td>\n",
       "      <td>f</td>\n",
       "      <td>f</td>\n",
       "      <td>...</td>\n",
       "      <td>t</td>\n",
       "      <td>91</td>\n",
       "      <td>t</td>\n",
       "      <td>0.92</td>\n",
       "      <td>t</td>\n",
       "      <td>99</td>\n",
       "      <td>f</td>\n",
       "      <td>?</td>\n",
       "      <td>SVI</td>\n",
       "      <td>NO CONDITION</td>\n",
       "    </tr>\n",
       "    <tr>\n",
       "      <th>9169</th>\n",
       "      <td>870119025</td>\n",
       "      <td>69</td>\n",
       "      <td>M</td>\n",
       "      <td>f</td>\n",
       "      <td>f</td>\n",
       "      <td>f</td>\n",
       "      <td>f</td>\n",
       "      <td>f</td>\n",
       "      <td>f</td>\n",
       "      <td>f</td>\n",
       "      <td>...</td>\n",
       "      <td>t</td>\n",
       "      <td>113</td>\n",
       "      <td>t</td>\n",
       "      <td>1.27</td>\n",
       "      <td>t</td>\n",
       "      <td>89</td>\n",
       "      <td>f</td>\n",
       "      <td>?</td>\n",
       "      <td>SVI</td>\n",
       "      <td>I</td>\n",
       "    </tr>\n",
       "    <tr>\n",
       "      <th>9170</th>\n",
       "      <td>870119027</td>\n",
       "      <td>47</td>\n",
       "      <td>F</td>\n",
       "      <td>f</td>\n",
       "      <td>f</td>\n",
       "      <td>f</td>\n",
       "      <td>f</td>\n",
       "      <td>f</td>\n",
       "      <td>f</td>\n",
       "      <td>f</td>\n",
       "      <td>...</td>\n",
       "      <td>t</td>\n",
       "      <td>75</td>\n",
       "      <td>t</td>\n",
       "      <td>0.85</td>\n",
       "      <td>t</td>\n",
       "      <td>88</td>\n",
       "      <td>f</td>\n",
       "      <td>?</td>\n",
       "      <td>other</td>\n",
       "      <td>NO CONDITION</td>\n",
       "    </tr>\n",
       "    <tr>\n",
       "      <th>9171</th>\n",
       "      <td>870119035</td>\n",
       "      <td>31</td>\n",
       "      <td>M</td>\n",
       "      <td>f</td>\n",
       "      <td>f</td>\n",
       "      <td>f</td>\n",
       "      <td>f</td>\n",
       "      <td>f</td>\n",
       "      <td>f</td>\n",
       "      <td>f</td>\n",
       "      <td>...</td>\n",
       "      <td>t</td>\n",
       "      <td>66</td>\n",
       "      <td>t</td>\n",
       "      <td>1.02</td>\n",
       "      <td>t</td>\n",
       "      <td>65</td>\n",
       "      <td>f</td>\n",
       "      <td>?</td>\n",
       "      <td>other</td>\n",
       "      <td>NO CONDITION</td>\n",
       "    </tr>\n",
       "  </tbody>\n",
       "</table>\n",
       "<p>9172 rows × 31 columns</p>\n",
       "</div>"
      ],
      "text/plain": [
       "      Record ID  age sex on thyroxine query on thyroxine  \\\n",
       "0     840801013   29   F            f                  f   \n",
       "1     840801014   29   F            f                  f   \n",
       "2     840801042   41   F            f                  f   \n",
       "3     840803046   36   F            f                  f   \n",
       "4     840803047   32   F            f                  f   \n",
       "...         ...  ...  ..          ...                ...   \n",
       "9167  870119022   56   M            f                  f   \n",
       "9168  870119023   22   M            f                  f   \n",
       "9169  870119025   69   M            f                  f   \n",
       "9170  870119027   47   F            f                  f   \n",
       "9171  870119035   31   M            f                  f   \n",
       "\n",
       "     on antithyroid medication sick pregnant thyroid surgery I131 treatment  \\\n",
       "0                            f    f        f               f              f   \n",
       "1                            f    f        f               f              f   \n",
       "2                            f    f        f               f              f   \n",
       "3                            f    f        f               f              f   \n",
       "4                            f    f        f               f              f   \n",
       "...                        ...  ...      ...             ...            ...   \n",
       "9167                         f    f        f               f              f   \n",
       "9168                         f    f        f               f              f   \n",
       "9169                         f    f        f               f              f   \n",
       "9170                         f    f        f               f              f   \n",
       "9171                         f    f        f               f              f   \n",
       "\n",
       "      ... TT4 measured  TT4 T4U measured   T4U FTI measured FTI TBG measured  \\\n",
       "0     ...            f    ?            f     ?            f   ?            f   \n",
       "1     ...            t  128            f     ?            f   ?            f   \n",
       "2     ...            f    ?            f     ?            f   ?            t   \n",
       "3     ...            f    ?            f     ?            f   ?            t   \n",
       "4     ...            f    ?            f     ?            f   ?            t   \n",
       "...   ...          ...  ...          ...   ...          ...  ..          ...   \n",
       "9167  ...            t   64            t  0.83            t  77            f   \n",
       "9168  ...            t   91            t  0.92            t  99            f   \n",
       "9169  ...            t  113            t  1.27            t  89            f   \n",
       "9170  ...            t   75            t  0.85            t  88            f   \n",
       "9171  ...            t   66            t  1.02            t  65            f   \n",
       "\n",
       "     TBG referral source     Condition  \n",
       "0      ?           other  NO CONDITION  \n",
       "1      ?           other  NO CONDITION  \n",
       "2     11           other  NO CONDITION  \n",
       "3     26           other  NO CONDITION  \n",
       "4     36           other             S  \n",
       "...   ..             ...           ...  \n",
       "9167   ?             SVI  NO CONDITION  \n",
       "9168   ?             SVI  NO CONDITION  \n",
       "9169   ?             SVI             I  \n",
       "9170   ?           other  NO CONDITION  \n",
       "9171   ?           other  NO CONDITION  \n",
       "\n",
       "[9172 rows x 31 columns]"
      ]
     },
     "execution_count": 14,
     "metadata": {},
     "output_type": "execute_result"
    }
   ],
   "source": [
    "# No. 5\n",
    "# Load the thyroid data\n",
    "thyroid_data = pd.read_excel(r'C:\\Users\\vivek\\Downloads\\Lab Session Data.xlsx', sheet_name='thyroid0387_UCI')\n",
    "thyroid_data"
   ]
  },
  {
   "cell_type": "code",
   "execution_count": 15,
   "id": "fca02699-6168-420b-9385-709cc003220a",
   "metadata": {},
   "outputs": [
    {
     "name": "stdout",
     "output_type": "stream",
     "text": [
      "Numeric Columns: Index(['Record ID', 'age'], dtype='object')\n",
      "\n",
      "Categorical Columns: Index(['sex', 'on thyroxine', 'query on thyroxine',\n",
      "       'on antithyroid medication', 'sick', 'pregnant', 'thyroid surgery',\n",
      "       'I131 treatment', 'query hypothyroid', 'query hyperthyroid', 'lithium',\n",
      "       'goitre', 'tumor', 'hypopituitary', 'psych', 'TSH measured', 'TSH',\n",
      "       'T3 measured', 'T3', 'TT4 measured', 'TT4', 'T4U measured', 'T4U',\n",
      "       'FTI measured', 'FTI', 'TBG measured', 'TBG', 'referral source',\n",
      "       'Condition'],\n",
      "      dtype='object')\n"
     ]
    }
   ],
   "source": [
    "# Study each attribute\n",
    "numeric_columns = thyroid_data.select_dtypes(include=['number']).columns\n",
    "categorical_columns = thyroid_data.select_dtypes(include=['object']).columns\n",
    "\n",
    "print(\"Numeric Columns:\", numeric_columns)\n",
    "print()\n",
    "print(\"Categorical Columns:\", categorical_columns)"
   ]
  },
  {
   "cell_type": "code",
   "execution_count": 17,
   "id": "fd7fd16c-7894-40c4-83a0-a7a37b291693",
   "metadata": {},
   "outputs": [
    {
     "name": "stdout",
     "output_type": "stream",
     "text": [
      "          Record ID           age  sex  on thyroxine  query on thyroxine  \\\n",
      "count  9.172000e+03   9172.000000  0.0           0.0                 0.0   \n",
      "mean   8.529473e+08     73.555822  NaN           NaN                 NaN   \n",
      "std    7.581969e+06   1183.976718  NaN           NaN                 NaN   \n",
      "min    8.408010e+08      1.000000  NaN           NaN                 NaN   \n",
      "25%    8.504090e+08     37.000000  NaN           NaN                 NaN   \n",
      "50%    8.510040e+08     55.000000  NaN           NaN                 NaN   \n",
      "75%    8.607110e+08     68.000000  NaN           NaN                 NaN   \n",
      "max    8.701190e+08  65526.000000  NaN           NaN                 NaN   \n",
      "\n",
      "       on antithyroid medication  sick  pregnant  thyroid surgery  \\\n",
      "count                        0.0   0.0       0.0              0.0   \n",
      "mean                         NaN   NaN       NaN              NaN   \n",
      "std                          NaN   NaN       NaN              NaN   \n",
      "min                          NaN   NaN       NaN              NaN   \n",
      "25%                          NaN   NaN       NaN              NaN   \n",
      "50%                          NaN   NaN       NaN              NaN   \n",
      "75%                          NaN   NaN       NaN              NaN   \n",
      "max                          NaN   NaN       NaN              NaN   \n",
      "\n",
      "       I131 treatment  ...  TT4 measured          TT4  T4U measured  \\\n",
      "count             0.0  ...           0.0  8730.000000           0.0   \n",
      "mean              NaN  ...           NaN   108.700305           NaN   \n",
      "std               NaN  ...           NaN    37.522670           NaN   \n",
      "min               NaN  ...           NaN     2.000000           NaN   \n",
      "25%               NaN  ...           NaN    87.000000           NaN   \n",
      "50%               NaN  ...           NaN   104.000000           NaN   \n",
      "75%               NaN  ...           NaN   126.000000           NaN   \n",
      "max               NaN  ...           NaN   600.000000           NaN   \n",
      "\n",
      "               T4U  FTI measured          FTI  TBG measured         TBG  \\\n",
      "count  8363.000000           0.0  8370.000000           0.0  349.000000   \n",
      "mean      0.976056           NaN   113.640746           NaN   29.870057   \n",
      "std       0.200360           NaN    41.551650           NaN   21.080504   \n",
      "min       0.170000           NaN     1.400000           NaN    0.100000   \n",
      "25%       0.860000           NaN    93.000000           NaN   21.000000   \n",
      "50%       0.960000           NaN   109.000000           NaN   26.000000   \n",
      "75%       1.065000           NaN   128.000000           NaN   31.000000   \n",
      "max       2.330000           NaN   881.000000           NaN  200.000000   \n",
      "\n",
      "       referral source  Condition  \n",
      "count              0.0        0.0  \n",
      "mean               NaN        NaN  \n",
      "std                NaN        NaN  \n",
      "min                NaN        NaN  \n",
      "25%                NaN        NaN  \n",
      "50%                NaN        NaN  \n",
      "75%                NaN        NaN  \n",
      "max                NaN        NaN  \n",
      "\n",
      "[8 rows x 31 columns]\n"
     ]
    }
   ],
   "source": [
    "thyroid_data.replace(\"?\", np.nan, inplace=True)\n",
    "\n",
    "# Convert columns to numeric, errors='coerce' will convert non-convertible values to NaN\n",
    "thyroid_data = thyroid_data.apply(pd.to_numeric, errors='coerce')\n",
    "\n",
    "# Study data range for numeric variables\n",
    "print(thyroid_data.describe())"
   ]
  },
  {
   "cell_type": "code",
   "execution_count": 18,
   "id": "15c23866-387c-47bf-bd78-21082d0a900c",
   "metadata": {},
   "outputs": [
    {
     "name": "stdout",
     "output_type": "stream",
     "text": [
      "Record ID                       0\n",
      "age                             0\n",
      "sex                          9172\n",
      "on thyroxine                 9172\n",
      "query on thyroxine           9172\n",
      "on antithyroid medication    9172\n",
      "sick                         9172\n",
      "pregnant                     9172\n",
      "thyroid surgery              9172\n",
      "I131 treatment               9172\n",
      "query hypothyroid            9172\n",
      "query hyperthyroid           9172\n",
      "lithium                      9172\n",
      "goitre                       9172\n",
      "tumor                        9172\n",
      "hypopituitary                9172\n",
      "psych                        9172\n",
      "TSH measured                 9172\n",
      "TSH                           842\n",
      "T3 measured                  9172\n",
      "T3                           2604\n",
      "TT4 measured                 9172\n",
      "TT4                           442\n",
      "T4U measured                 9172\n",
      "T4U                           809\n",
      "FTI measured                 9172\n",
      "FTI                           802\n",
      "TBG measured                 9172\n",
      "TBG                          8823\n",
      "referral source              9172\n",
      "Condition                    9172\n",
      "dtype: int64\n"
     ]
    }
   ],
   "source": [
    "# Study presence of missing values\n",
    "missing_values = thyroid_data.isnull().sum()\n",
    "print(missing_values)"
   ]
  },
  {
   "cell_type": "code",
   "execution_count": 19,
   "id": "25f5d4d2-0f36-49b3-b902-bb019d29546b",
   "metadata": {},
   "outputs": [
    {
     "data": {
      "image/png": "[encoded data removed]",
      "text/plain": [
       "<Figure size 640x480 with 1 Axes>"
      ]
     },
     "metadata": {},
     "output_type": "display_data"
    },
    {
     "data": {
      "image/png": "[encoded data removed]",
      "text/plain": [
       "<Figure size 640x480 with 1 Axes>"
      ]
     },
     "metadata": {},
     "output_type": "display_data"
    },
    {
     "name": "stdout",
     "output_type": "stream",
     "text": [
      "Skipping sex because it contains only NaN values.\n",
      "Skipping on thyroxine because it contains only NaN values.\n",
      "Skipping query on thyroxine because it contains only NaN values.\n",
      "Skipping on antithyroid medication because it contains only NaN values.\n",
      "Skipping sick because it contains only NaN values.\n",
      "Skipping pregnant because it contains only NaN values.\n",
      "Skipping thyroid surgery because it contains only NaN values.\n",
      "Skipping I131 treatment because it contains only NaN values.\n",
      "Skipping query hypothyroid because it contains only NaN values.\n",
      "Skipping query hyperthyroid because it contains only NaN values.\n",
      "Skipping lithium because it contains only NaN values.\n",
      "Skipping goitre because it contains only NaN values.\n",
      "Skipping tumor because it contains only NaN values.\n",
      "Skipping hypopituitary because it contains only NaN values.\n",
      "Skipping psych because it contains only NaN values.\n",
      "Skipping TSH measured because it contains only NaN values.\n"
     ]
    },
    {
     "data": {
      "image/png": "[encoded data removed]",
      "text/plain": [
       "<Figure size 640x480 with 1 Axes>"
      ]
     },
     "metadata": {},
     "output_type": "display_data"
    },
    {
     "name": "stdout",
     "output_type": "stream",
     "text": [
      "Skipping T3 measured because it contains only NaN values.\n"
     ]
    },
    {
     "data": {
      "image/png": "[encoded data removed]",
      "text/plain": [
       "<Figure size 640x480 with 1 Axes>"
      ]
     },
     "metadata": {},
     "output_type": "display_data"
    },
    {
     "name": "stdout",
     "output_type": "stream",
     "text": [
      "Skipping TT4 measured because it contains only NaN values.\n"
     ]
    },
    {
     "data": {
      "image/png": "[encoded data removed]",
      "text/plain": [
       "<Figure size 640x480 with 1 Axes>"
      ]
     },
     "metadata": {},
     "output_type": "display_data"
    },
    {
     "name": "stdout",
     "output_type": "stream",
     "text": [
      "Skipping T4U measured because it contains only NaN values.\n"
     ]
    },
    {
     "data": {
      "image/png": "[encoded data removed]",
      "text/plain": [
       "<Figure size 640x480 with 1 Axes>"
      ]
     },
     "metadata": {},
     "output_type": "display_data"
    },
    {
     "name": "stdout",
     "output_type": "stream",
     "text": [
      "Skipping FTI measured because it contains only NaN values.\n"
     ]
    },
    {
     "data": {
      "image/png": "[encoded data removed]",
      "text/plain": [
       "<Figure size 640x480 with 1 Axes>"
      ]
     },
     "metadata": {},
     "output_type": "display_data"
    },
    {
     "name": "stdout",
     "output_type": "stream",
     "text": [
      "Skipping TBG measured because it contains only NaN values.\n"
     ]
    },
    {
     "data": {
      "image/png": "[encoded data removed]",
      "text/plain": [
       "<Figure size 640x480 with 1 Axes>"
      ]
     },
     "metadata": {},
     "output_type": "display_data"
    },
    {
     "name": "stdout",
     "output_type": "stream",
     "text": [
      "Skipping referral source because it contains only NaN values.\n",
      "Skipping Condition because it contains only NaN values.\n"
     ]
    }
   ],
   "source": [
    "import seaborn as sns\n",
    "import matplotlib.pyplot as plt\n",
    "\n",
    "# Get the numerical columns\n",
    "numeric_columns = thyroid_data.select_dtypes(include=['float64', 'int64']).columns\n",
    "\n",
    "# Iterate through each column and create a box plot with title\n",
    "for column in numeric_columns:\n",
    "    # Check if the column has non-NaN values\n",
    "    if thyroid_data[column].dropna().empty:\n",
    "        print(f\"Skipping {column} because it contains only NaN values.\")\n",
    "        continue\n",
    "    \n",
    "    # Create the box plot\n",
    "    sns.boxplot(\n",
    "        y=column,  # Use 'y' instead of 'x' for numerical data\n",
    "        showmeans=True,  # Display the mean value on the box plot\n",
    "        data=thyroid_data\n",
    "    )\n",
    "    plt.title(f\"Distribution of {column}\")  # Add title with column name\n",
    "    plt.show()  # Display the plot\n"
   ]
  },
  {
   "cell_type": "code",
   "execution_count": 20,
   "id": "10010990-5bb4-4900-895a-a760a257569c",
   "metadata": {},
   "outputs": [
    {
     "name": "stdout",
     "output_type": "stream",
     "text": [
      "Mean values:\n",
      " Record ID    8.529473e+08\n",
      "age          7.355582e+01\n",
      "TSH          5.218403e+00\n",
      "T3           1.970629e+00\n",
      "TT4          1.087003e+02\n",
      "T4U          9.760557e-01\n",
      "FTI          1.136407e+02\n",
      "TBG          2.987006e+01\n",
      "dtype: float64\n",
      "Variance values:\n",
      " Record ID    5.748625e+13\n",
      "age          1.401801e+06\n",
      "TSH          5.848662e+02\n",
      "T3           7.877962e-01\n",
      "TT4          1.407951e+03\n",
      "T4U          4.014431e-02\n",
      "FTI          1.726540e+03\n",
      "TBG          4.443876e+02\n",
      "dtype: float64\n"
     ]
    }
   ],
   "source": [
    "# Get the numerical columns\n",
    "numeric_columns = thyroid_data.select_dtypes(include=['float64', 'int64']).columns\n",
    "\n",
    "# Drop columns that contain only NaN values\n",
    "numeric_data_non_null = thyroid_data[numeric_columns].dropna(axis=1, how='all')\n",
    "\n",
    "# Calculate mean and variance for columns that have non-null values\n",
    "mean_values = numeric_data_non_null.mean()\n",
    "variance_values = numeric_data_non_null.var()\n",
    "\n",
    "print(\"Mean values:\\n\", mean_values)\n",
    "print(\"Variance values:\\n\", variance_values)\n"
   ]
  },
  {
   "cell_type": "code",
   "execution_count": 21,
   "id": "5c0714fa-c362-4b47-b177-f3aafc3b921f",
   "metadata": {},
   "outputs": [
    {
     "name": "stdout",
     "output_type": "stream",
     "text": [
      "      Record ID  age  sex  on thyroxine  query on thyroxine  \\\n",
      "0     840801013   29  NaN           NaN                 NaN   \n",
      "1     840801014   29  NaN           NaN                 NaN   \n",
      "2     840801042   41  NaN           NaN                 NaN   \n",
      "3     840803046   36  NaN           NaN                 NaN   \n",
      "4     840803047   32  NaN           NaN                 NaN   \n",
      "...         ...  ...  ...           ...                 ...   \n",
      "9167  870119022   56  NaN           NaN                 NaN   \n",
      "9168  870119023   22  NaN           NaN                 NaN   \n",
      "9169  870119025   69  NaN           NaN                 NaN   \n",
      "9170  870119027   47  NaN           NaN                 NaN   \n",
      "9171  870119035   31  NaN           NaN                 NaN   \n",
      "\n",
      "      on antithyroid medication  sick  pregnant  thyroid surgery  \\\n",
      "0                           NaN   NaN       NaN              NaN   \n",
      "1                           NaN   NaN       NaN              NaN   \n",
      "2                           NaN   NaN       NaN              NaN   \n",
      "3                           NaN   NaN       NaN              NaN   \n",
      "4                           NaN   NaN       NaN              NaN   \n",
      "...                         ...   ...       ...              ...   \n",
      "9167                        NaN   NaN       NaN              NaN   \n",
      "9168                        NaN   NaN       NaN              NaN   \n",
      "9169                        NaN   NaN       NaN              NaN   \n",
      "9170                        NaN   NaN       NaN              NaN   \n",
      "9171                        NaN   NaN       NaN              NaN   \n",
      "\n",
      "      I131 treatment  ...  TT4 measured    TT4  T4U measured   T4U  \\\n",
      "0                NaN  ...           NaN  104.0           NaN  0.96   \n",
      "1                NaN  ...           NaN  128.0           NaN  0.96   \n",
      "2                NaN  ...           NaN  104.0           NaN  0.96   \n",
      "3                NaN  ...           NaN  104.0           NaN  0.96   \n",
      "4                NaN  ...           NaN  104.0           NaN  0.96   \n",
      "...              ...  ...           ...    ...           ...   ...   \n",
      "9167             NaN  ...           NaN   64.0           NaN  0.83   \n",
      "9168             NaN  ...           NaN   91.0           NaN  0.92   \n",
      "9169             NaN  ...           NaN  113.0           NaN  1.27   \n",
      "9170             NaN  ...           NaN   75.0           NaN  0.85   \n",
      "9171             NaN  ...           NaN   66.0           NaN  1.02   \n",
      "\n",
      "      FTI measured    FTI  TBG measured   TBG  referral source  Condition  \n",
      "0              NaN  109.0           NaN  26.0              NaN        NaN  \n",
      "1              NaN  109.0           NaN  26.0              NaN        NaN  \n",
      "2              NaN  109.0           NaN  11.0              NaN        NaN  \n",
      "3              NaN  109.0           NaN  26.0              NaN        NaN  \n",
      "4              NaN  109.0           NaN  36.0              NaN        NaN  \n",
      "...            ...    ...           ...   ...              ...        ...  \n",
      "9167           NaN   77.0           NaN  26.0              NaN        NaN  \n",
      "9168           NaN   99.0           NaN  26.0              NaN        NaN  \n",
      "9169           NaN   89.0           NaN  26.0              NaN        NaN  \n",
      "9170           NaN   88.0           NaN  26.0              NaN        NaN  \n",
      "9171           NaN   65.0           NaN  26.0              NaN        NaN  \n",
      "\n",
      "[9172 rows x 31 columns]\n"
     ]
    }
   ],
   "source": [
    "# import pandas as pd\n",
    "\n",
    "# thyroid_data = pd.read_excel(r'C:\\Users\\vivek\\Downloads\\Lab Session Data.xlsx', sheet_name='thyroid0387_UCI')\n",
    "\n",
    "# Iterate over each column in the DataFrame\n",
    "for column in thyroid_data.columns:\n",
    "    # If the column is numeric\n",
    "    if thyroid_data[column].dtype in ['int64', 'float64']:\n",
    "        # Check for outliers using the Interquartile Range (IQR) method\n",
    "        Q1 = thyroid_data[column].quantile(0.25)\n",
    "        Q3 = thyroid_data[column].quantile(0.75)\n",
    "        IQR = Q3 - Q1\n",
    "        lower_bound = Q1 - 1.5 * IQR\n",
    "        upper_bound = Q3 + 1.5 * IQR\n",
    "        \n",
    "        # If there are outliers, use the median to fill NaN\n",
    "        if thyroid_data[column].lt(lower_bound).any() or thyroid_data[column].gt(upper_bound).any():\n",
    "            median_value = thyroid_data[column].median()\n",
    "            thyroid_data[column] = thyroid_data[column].fillna(median_value)\n",
    "        else:  # If there are no outliers, use the mean to fill NaN\n",
    "            mean_value = thyroid_data[column].mean()\n",
    "            thyroid_data[column] = thyroid_data[column].fillna(mean_value)\n",
    "    \n",
    "    # If the column is categorical\n",
    "    elif thyroid_data[column].dtype == 'object':\n",
    "        mode_value = thyroid_data[column].mode()[0]\n",
    "        thyroid_data[column] = thyroid_data[column].fillna(mode_value)\n",
    "\n",
    "# Display the DataFrame after imputation\n",
    "print(thyroid_data)\n"
   ]
  },
  {
   "cell_type": "code",
   "execution_count": null,
   "id": "c99c197d-2252-4f66-98ba-d55161303795",
   "metadata": {},
   "outputs": [],
   "source": []
  }
 ],
 "metadata": {
  "kernelspec": {
   "display_name": "Python 3 (ipykernel)",
   "language": "python",
   "name": "python3"
  },
  "language_info": {
   "codemirror_mode": {
    "name": "ipython",
    "version": 3
   },
   "file_extension": ".py",
   "mimetype": "text/x-python",
   "name": "python",
   "nbconvert_exporter": "python",
   "pygments_lexer": "ipython3",
   "version": "3.12.4"
  }
 },
 "nbformat": 4,
 "nbformat_minor": 5
}
