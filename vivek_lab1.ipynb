{
 "cells": [
  {
   "cell_type": "code",
   "execution_count": 6,
   "id": "3283fbd7",
   "metadata": {},
   "outputs": [
    {
     "name": "stdout",
     "output_type": "stream",
     "text": [
      "Enter a string: good morning\n",
      "Number of vowels: 4\n",
      "Number of consonants: 7\n"
     ]
    }
   ],
   "source": [
    "#program to count the number of vowels and consonants in a String\n",
    "def count(s): \n",
    "    vowel = 0\n",
    "    consonant = 0\n",
    "    \n",
    "    for char in s:\n",
    "        if char in \"aeiouAEIOU\":\n",
    "            vowel += 1\n",
    "        elif char.isalpha():\n",
    "            consonant += 1\n",
    "    \n",
    "    return vowel_count, consonant_count\n",
    "\n",
    "def main():\n",
    "    # Taking input\n",
    "    input_string = input(\"Enter a string: \")\n",
    "\n",
    "    # function to count vowels and consonants\n",
    "    vowel, consonant = count(input_string)\n",
    "\n",
    "    # displaying the result\n",
    "    print(f\"Number of vowels: {vowel}\")\n",
    "    print(f\"Number of consonants: {consonant}\")\n",
    "    \n",
    "if __name__==\"__main__\":\n",
    "    main()\n"
   ]
  },
  {
   "cell_type": "code",
   "execution_count": 19,
   "id": "e02a7e2c",
   "metadata": {},
   "outputs": [
    {
     "name": "stdout",
     "output_type": "stream",
     "text": [
      "Enter the size of rows: 2\n",
      "Enter elements of matrix A:\n",
      "1 2\n",
      "3 4\n",
      "Enter elements of matrix B:\n",
      "2 3\n",
      "4 5\n",
      "Resultant matrix C:\n",
      "10 13\n",
      "22 29\n"
     ]
    }
   ],
   "source": [
    "#program to find the product of two matrices\n",
    "def matrix_mul(A, B, n):\n",
    "    # initializing result matrix as 0\n",
    "    C = [[0] * n for _ in range(n)]\n",
    "   \n",
    "    for i in range(n):\n",
    "        for j in range(n):\n",
    "            for k in range(n):\n",
    "                C[i][j] += A[i][k] * B[k][j]\n",
    "   \n",
    "    return C\n",
    "\n",
    "def main():\n",
    "    n = int(input(\"Enter the size of rows: \"))\n",
    "   \n",
    "    # Initialize matrices A and B\n",
    "    A = []\n",
    "    B = []\n",
    "   \n",
    "    print(\"Enter elements of matrix A:\")\n",
    "    for i in range(n):\n",
    "        row = list(map(int, input().split()))\n",
    "        A.append(row)\n",
    "   \n",
    "    print(\"Enter elements of matrix B:\")\n",
    "    for i in range(n):\n",
    "        row = list(map(int, input().split()))\n",
    "        B.append(row)\n",
    "   \n",
    "    C = matrix_mul(A, B, n)\n",
    "   \n",
    "    print(\"Resultant matrix C:\")\n",
    "    for row in C:\n",
    "        print(\" \".join(map(str, row)))\n",
    "\n",
    "if __name__ == \"__main__\":\n",
    "    main()"
   ]
  },
  {
   "cell_type": "markdown",
   "id": "c3ecac02",
   "metadata": {},
   "source": []
  },
  {
   "cell_type": "code",
   "execution_count": 21,
   "id": "b30a558c",
   "metadata": {},
   "outputs": [
    {
     "name": "stdout",
     "output_type": "stream",
     "text": [
      "Common element in the list:\n",
      "[2, 3, 4]\n"
     ]
    }
   ],
   "source": [
    "# program to find number the  common elements between two list\n",
    "def commonElements(listA, listB):\n",
    "  resultList = []\n",
    "  for i in listA:\n",
    "    if(i in listB):\n",
    "      resultList.append(i)\n",
    "\n",
    "  return resultList\n",
    "\n",
    "list1 = [1, 2, 3, 4,7]\n",
    "list2 = [2,3,4,6]\n",
    "\n",
    "res = commonElements(list1, list2)\n",
    "print(\"Common element in the list:\")\n",
    "print(res)"
   ]
  },
  {
   "cell_type": "code",
   "execution_count": 20,
   "id": "8f219a70",
   "metadata": {},
   "outputs": [
    {
     "name": "stdout",
     "output_type": "stream",
     "text": [
      "Transpose Matrix:\n",
      "[1, 4, 7]\n",
      "[2, 5, 8]\n",
      "[3, 6, 9]\n"
     ]
    }
   ],
   "source": [
    "# program to take the matrix as input and return its transpose\n",
    "def calculateTranspose(matrix):\n",
    "  resultMatrix =[]\n",
    "\n",
    "  for i in range(len(matrix)):\n",
    "    mat = []\n",
    "    for j in range(len(matrix[0])):\n",
    "      mat.append(matrix[j][i])\n",
    "    resultMatrix.append(mat)\n",
    "\n",
    "  return resultMatrix\n",
    "\n",
    "matrix = [\n",
    "    [1,2,3],\n",
    "    [4,5,6],\n",
    "    [7,8,9]\n",
    "]\n",
    "resultMatrix = calculateTranspose(matrix)\n",
    "print(\"Transpose Matrix:\")\n",
    "for a in resultMatrix:\n",
    "  print(a)\n",
    "     "
   ]
  },
  {
   "cell_type": "code",
   "execution_count": null,
   "id": "525fb69d",
   "metadata": {},
   "outputs": [],
   "source": []
  },
  {
   "cell_type": "code",
   "execution_count": null,
   "id": "e05611ca",
   "metadata": {},
   "outputs": [],
   "source": []
  },
  {
   "cell_type": "code",
   "execution_count": null,
   "id": "6c09f0aa",
   "metadata": {},
   "outputs": [],
   "source": []
  }
 ],
 "metadata": {
  "kernelspec": {
   "display_name": "Python 3 (ipykernel)",
   "language": "python",
   "name": "python3"
  },
  "language_info": {
   "codemirror_mode": {
    "name": "ipython",
    "version": 3
   },
   "file_extension": ".py",
   "mimetype": "text/x-python",
   "name": "python",
   "nbconvert_exporter": "python",
   "pygments_lexer": "ipython3",
   "version": "3.9.13"
  }
 },
 "nbformat": 4,
 "nbformat_minor": 5
}
